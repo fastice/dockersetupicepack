{
 "cells": [
  {
   "cell_type": "markdown",
   "id": "8b25732f-691c-4a82-88cb-369a53adda47",
   "metadata": {},
   "source": [
    "# Notes on Using Docker with Icepack\n",
    "---"
   ]
  },
  {
   "cell_type": "markdown",
   "id": "ed99f6be-025d-4387-8123-df9e7a6dd730",
   "metadata": {},
   "source": [
    "I have several requirements for running icepack within docker:\n",
    "- It should run as seamlessly as possible on my existing network of servers, with full access all disk volumes,\n",
    "- It should easily be able to run jupyter notebooks that are easily opened on the host system,\n",
    "- It should have all of the necessary packages installed\n",
    "- It should allow xapps to open on the host (e.g., emacs)\n",
    "- The user id should match that on the host system to allow read/write to all disks\n",
    "- It should work with /usr/bin/tcsh (my preference, change to bash or other shell as desired)."
   ]
  },
  {
   "cell_type": "markdown",
   "id": "a4189fc5-f782-4b99-9bef-0634efdb4c19",
   "metadata": {},
   "source": [
    "## Step 1: Setup Docker Container "
   ]
  },
  {
   "cell_type": "markdown",
   "id": "059446f4-2541-4ee5-b97d-e8e6dfc6ebdd",
   "metadata": {},
   "source": [
    "For this step, we defined how to setup the container with a file called This file should be named, `Dockerfile`. This step is like installing a new system. This is the place to install the necessary packages. If they are `pip` or `apt` installed from an active container, they will no be saved to the container image, and thus, will not be accessible the next time the container is run."
   ]
  },
  {
   "cell_type": "markdown",
   "id": "3daf654c-12b6-4d51-8255-7185eb684eda",
   "metadata": {},
   "source": [
    "```\n",
    "RUN sudo apt  -y install patchelf\n",
    "RUN sudo apt -y install gdal-bin libgdal-dev\n",
    "# install icepack stuff\n",
    "RUN source /home/firedrake/firedrake/bin/activate && \\\n",
    "    pip install git+https://github.com/icepack/Trilinos.git && \\\n",
    "    pip install git+https://github.com/icepack/pyrol.git && \\\n",
    "    git clone https://github.com/icepack/icepack.git && \\\n",
    "    pip install --editable ./icepack && \\\n",
    "    pip install jupyter lab && \\\n",
    "    pip install siphash24\n",
    "#\n",
    "# DockerRequirements.txt contains all extra packages and is copied to containter\n",
    "COPY  DockerRequirements.txt .\n",
    "# Set up the kernel and other packages\n",
    "RUN source /home/firedrake/firedrake/bin/activate && \\\n",
    "   pip install -r  DockerRequirements.txt && \\\n",
    "   python -m ipykernel install --user --name=firedrakeDocker\n",
    "#\n",
    "# Install x11-apps\n",
    "RUN sudo apt -y install emacs tcsh\n",
    "RUN sudo apt -y install x11-apps\n",
    "# Configure X11 authentication and clean up apt cache\n",
    "RUN sudo xauth && sudo rm -rf /var/lib/apt/lists/*\n",
    "# Set timezone to LA\n",
    "ENV TZ=America/Los_Angeles\n",
    "RUN sudo ln -snf /usr/share/zoneinfo/$TZ /etc/localtime && \\\n",
    "    echo $TZ | sudo tee /etc/timezone\n",
    "# Point jupyter config to a custom file (allows port range to changed)\n",
    "ENV JUPYTER_CONFIG_DIR=~/.jupyter/config_icepack\n",
    "#\n",
    "#\n",
    "# Set up with my user ID and shell preference and allow sudo \n",
    "RUN sudo useradd -m -u 3707 ian && echo \"ian ALL=(ALL) NOPASSWD:ALL\" | sudo tee /etc/sudoers.d/ian\n",
    "RUN sudo usermod --shell /bin/tcsh ian\n",
    "RUN sudo usermod -aG sudo ian\n",
    "RUN  sudo chown -R  ian:ian  /home/firedrake\n",
    "# Link the firedrake to my home directory\n",
    "RUN sudo ln -s  /home/firedrake /firedrake\n",
    "USER ian\n",
    "# Use docker exec to start shells, so just hold\n",
    "CMD sleep infinity"
   ]
  },
  {
   "cell_type": "markdown",
   "id": "ec2f235f-63e8-41c1-b878-adafc5eba2e0",
   "metadata": {},
   "source": [
    "To build the container, run the following command in the same directory as `dockerFile`"
   ]
  },
  {
   "cell_type": "markdown",
   "id": "23d6b377-cbe6-4d11-bc9c-e44cce14d12c",
   "metadata": {},
   "source": [
    "`sudo docker build --tag dockertest1 .`"
   ]
  },
  {
   "cell_type": "markdown",
   "id": "205abe41-aaad-4654-b975-5965871082ec",
   "metadata": {},
   "source": [
    "Note this sets up the kernel for Jupyter as `firedrakeDocker`."
   ]
  },
  {
   "cell_type": "markdown",
   "id": "ea1a8b7d-0e62-4c5e-89b4-70b5d67eb9d4",
   "metadata": {},
   "source": [
    "## Step 2: Setup Docker Compose"
   ]
  },
  {
   "cell_type": "markdown",
   "id": "e67a5f43-9cc2-4731-98d5-0c1e540b79b5",
   "metadata": {},
   "source": [
    "The command `docker-compose` allows us to predefine many of the parameters that would have to be passed via `docker run`. It can be setup with a file `docker-compose.yml` as shown here:"
   ]
  },
  {
   "cell_type": "markdown",
   "id": "8e4b2b35-e9ad-4b7b-b286-e667a2ae2c0a",
   "metadata": {},
   "source": [
    "```\n",
    "services: # Defines the services (containers) that will run in your application\n",
    "  dockertest:\n",
    "    image: dockertest1  # Specifies the docker image to use\n",
    "    container_name: icepack # Specifies the container name\n",
    "    hostname: icepack   # This will make it look like a computer called icepack\n",
    "    user: \"ian\" # Have it start up as me\n",
    "    stdin_open: true # Keeps stdin open, allowing interaction with the container \n",
    "    tty: true # Allocates a pseudo-TTY, which is helpful for running interactive applications\n",
    "    ports:\n",
    "      - 9038-9088:9038-9088  # Maps this port range to the correpsponding range on the host\n",
    "    volumes:  # Mounts volumes on the servers to the same mount points on the container\n",
    "      - /tmp/.X11-unix:/tmp/.X11-unix\n",
    "      - /home/ian:/home/ian\n",
    "      - /Users/ian:/Users/ian      \n",
    "      - /Volumes/insar1/ian:/Volumes/insar1/ian\n",
    "      - /Volumes/insar3/ian:/Volumes/insar3/ian\n",
    "      - /Volumes/insar4/ian:/Volumes/insar4/ian\n",
    "      - /Volumes/insar5/ian:/Volumes/insar5/ian\n",
    "      - /Volumes/insar6/ian:/Volumes/insar6/ian\n",
    "      - /Volumes/insar7/ian:/Volumes/insar7/ian\n",
    "      - /Volumes/insar8/ian:/Volumes/insar8/ian\n",
    "      - /Volumes/insar9/ian:/Volumes/insar9/ian\n",
    "      - /Volumes/insar10/ian:/Volumes/insar10/ian\n",
    "      - /Volumes/insar11/ian:/Volumes/insar11/ian  "
   ]
  },
  {
   "cell_type": "markdown",
   "id": "0f3dc988-f42b-4dc8-b8d5-0894f372f60d",
   "metadata": {},
   "source": [
    "## Step 3: Run the Container"
   ]
  },
  {
   "cell_type": "markdown",
   "id": "9d133d72-70c1-4ec3-8882-9b2083dd8d91",
   "metadata": {},
   "source": [
    "In this step `docker-compose` is used to run the container, with the commmand"
   ]
  },
  {
   "cell_type": "markdown",
   "id": "c2fbb32e-a9f4-4460-a259-f78876e6b732",
   "metadata": {},
   "source": [
    "`docker-compose up --remove-orphans`"
   ]
  },
  {
   "cell_type": "markdown",
   "id": "db08a81c-2f2e-44b9-a166-6290b9996165",
   "metadata": {},
   "source": [
    "This will start container up in a window and then pause. **If it fails to start or starts with an error**, try `docker remove`, which will prompt you remove any old container (this will not affect the dockerImage, only the prior container instance)."
   ]
  },
  {
   "cell_type": "markdown",
   "id": "43644c5a-f513-4a0d-90a8-b17aa7f3a182",
   "metadata": {},
   "source": [
    "To pause the container, use:"
   ]
  },
  {
   "cell_type": "markdown",
   "id": "35472ffc-cf5d-4938-ba9b-b5127506b72f",
   "metadata": {},
   "source": [
    "`docker-compose stop`"
   ]
  },
  {
   "cell_type": "markdown",
   "id": "36adbace-b7e2-436e-950f-ed59e482f484",
   "metadata": {},
   "source": [
    "The container can be restart with the same state with:"
   ]
  },
  {
   "cell_type": "markdown",
   "id": "da746459-261f-4d6d-b198-4a7d8ca7e1a1",
   "metadata": {},
   "source": [
    "`docker-compose start`"
   ]
  },
  {
   "cell_type": "markdown",
   "id": "079d0f8b-a30f-44bd-ad03-7cfe39b0dee6",
   "metadata": {},
   "source": [
    "To gracefully shut the container down use: "
   ]
  },
  {
   "cell_type": "markdown",
   "id": "ef517e11-3ddd-4f0f-b9a1-1825df2a3169",
   "metadata": {},
   "source": [
    "`docker-compose down`"
   ]
  },
  {
   "cell_type": "markdown",
   "id": "6ee061f8-fd16-401c-bd8d-5bea15e99d66",
   "metadata": {},
   "source": [
    "Or if its unresponsive, use:"
   ]
  },
  {
   "cell_type": "markdown",
   "id": "c6636edd-73f2-401d-b962-8e7e17704a05",
   "metadata": {},
   "source": [
    "`docker-compose kill`"
   ]
  },
  {
   "cell_type": "markdown",
   "id": "10063b87-f93e-4d18-9af2-60ef9c069f30",
   "metadata": {},
   "source": [
    "## Run a Shell in the Container"
   ]
  },
  {
   "cell_type": "markdown",
   "id": "0da06fed-dd79-4810-94a7-be29d15d8732",
   "metadata": {},
   "source": [
    "Now to run a shell on the containter, "
   ]
  },
  {
   "cell_type": "markdown",
   "id": "d8edb5cd-35c7-4a0f-a456-07b6bd4d6c17",
   "metadata": {},
   "source": [
    "`xhost + local:docker; docker exec -it -e DISPLAY=$DISPLAY -e XAUTHORITY=~/.Xauthority icepack /bin/tcsh`"
   ]
  },
  {
   "cell_type": "markdown",
   "id": "4e254a18-7d84-4041-86fc-bc3167cc1065",
   "metadata": {},
   "source": [
    "The first part, `xhost + local:docker` should only need to be run the first time, but it doesn't hurt to run it each time. It allows the container to open xwindows on the host. The `docker exec` runs the last argmuent as a command on the host, which in this example is `tcsh`.  The `-it` says make it interactive, so you can work in the shell. The `-e` flag is to set environment variables on the host. The container name in this example is `icepack` as defined in the `docker-compose.yml` file above."
   ]
  },
  {
   "cell_type": "markdown",
   "id": "b972b948-3f75-4440-b346-463886812611",
   "metadata": {},
   "source": [
    "A nice feature of using shells this way is its easy to run multiple shells on the same container. And unlike docker-run, if you type `exit`, you only exit that one shell, not the whole container."
   ]
  },
  {
   "cell_type": "markdown",
   "id": "b4b63d93-971f-4779-bb89-e7ec07a99129",
   "metadata": {},
   "source": [
    "Note the way this is configured, anything saved on the `host` file systems mounted in the container will persist when the container shuts down. But anything written to the container will be lost, include software installs. If something needs to be `pip` installed or `apt` installed, verify the command while the container is running, and then add the command to the `Dockerfile` and rebuild the image for next time. "
   ]
  },
  {
   "cell_type": "markdown",
   "id": "b1b430b9-c1ec-4ad3-8902-dfea00fb31b5",
   "metadata": {},
   "source": [
    "There is a way to define a \"local volume\" for the container, but that just stores the somewhere deeps in /var and still takes up space on the host. So in most instances, its cleaner to mount the local files sytems as in this example. "
   ]
  },
  {
   "cell_type": "markdown",
   "id": "eea85321-0cf8-417a-b7c8-add075e74214",
   "metadata": {},
   "source": [
    "# Using Jupyter"
   ]
  },
  {
   "cell_type": "markdown",
   "id": "7e052b98-3432-435f-b84d-06a1b902b6bc",
   "metadata": {},
   "source": [
    "Jupyter can be used, from the container and run in a browser on the host, but some care needs to taken in setting this up.  By default, Jupyter starts new sessions at port 8888 or some larger value if that value is taken. This is a problem if the host and the container both try to use the same port. Several steps are needed to fix this. "
   ]
  },
  {
   "cell_type": "markdown",
   "id": "e8fb2e97-39ba-40de-a8be-50eb6a283cdc",
   "metadata": {},
   "source": [
    "### Allocate a Different Port Range for the Container"
   ]
  },
  {
   "cell_type": "markdown",
   "id": "4a6495c3-9930-4347-8bf7-fbb958aed5f6",
   "metadata": {},
   "source": [
    "A different range of ports is allocated in the `docker-compose.yml` file described above with the line:"
   ]
  },
  {
   "cell_type": "markdown",
   "id": "597f0673-b43b-4641-abcc-039d7941b509",
   "metadata": {},
   "source": [
    "```\n",
    "  ports:\n",
    "      - 9038-9088:9038-9088  # Maps this port range to the correpsponding range on the host"
   ]
  },
  {
   "cell_type": "markdown",
   "id": "bf67c2f5-9cbd-43fc-a2fa-b8770088aac4",
   "metadata": {},
   "source": [
    "### Configure Jupyter to Use the New Range"
   ]
  },
  {
   "cell_type": "markdown",
   "id": "33cdc08e-d845-47ec-afa7-02aec931acac",
   "metadata": {},
   "source": [
    "A cumbersome approach is to specify the port range on the command line when jupyter is started, but this requires the user to manage the assignment in situations with multiple instances of Jupyter. The port range can be specified in the jupyter config file, but that adds another problem if the host and container are using a shared home directory as described above.  To get around this, the Dockerfile has the command:"
   ]
  },
  {
   "cell_type": "markdown",
   "id": "e1e14270-0669-4390-8411-97a45f2d497c",
   "metadata": {},
   "source": [
    "```ENV JUPYTER_CONFIG_DIR=~/.jupyter/config_icepack```"
   ]
  },
  {
   "cell_type": "markdown",
   "id": "b22fb12a-14ff-4084-bfec-42b5162f5f1e",
   "metadata": {},
   "source": [
    "This means the container will now use a different config file than the host. The `jupyter_notebook_config.py` in this directory should look like this:"
   ]
  },
  {
   "cell_type": "markdown",
   "id": "eb36bcd2-8063-4074-b5bc-de693c96d3df",
   "metadata": {},
   "source": [
    "```\n",
    "c.NotebookApp.ip = '0.0.0.0'  # Sets the notebook up for access by the host\n",
    "c.NotebookApp.allow_remote_access = True  # Sets the notebook up for access by the host\n",
    "c.NotebookApp.port = 9038  # This port starts just after the port range (will be increment by one with each new instance)."
   ]
  },
  {
   "cell_type": "markdown",
   "id": "82b847a6-a52b-4ab4-83a0-4caf42ee6706",
   "metadata": {},
   "source": [
    "With the jupyter configure this way, jupyter can started with the simple command:"
   ]
  },
  {
   "cell_type": "markdown",
   "id": "4e6ec634-5317-4715-aec7-76b64abb28cd",
   "metadata": {},
   "source": [
    "`jupyter lab`"
   ]
  },
  {
   "cell_type": "markdown",
   "id": "58f071e9-710c-4723-ba81-8221162f3dc3",
   "metadata": {},
   "source": [
    "Unlike on the host, this will not automatically start up the browser. Instead, it will print out an IP that can be opened in the host browser.** Make sure to use the one with 127.0.0.1 and not the one with the host name **"
   ]
  },
  {
   "cell_type": "markdown",
   "id": "f0a2aee5-d682-4f92-8084-7170de5a65f8",
   "metadata": {},
   "source": [
    "The IP can also be obtained on the host side with the command"
   ]
  },
  {
   "cell_type": "markdown",
   "id": "22b8b348-a679-49ea-bd55-2904973076bb",
   "metadata": {},
   "source": [
    "`jupyter lab list | sed s/icepack/localhost/`"
   ]
  },
  {
   "cell_type": "markdown",
   "id": "bdf5487d-834d-41fc-8a50-a0f1ab929937",
   "metadata": {},
   "source": [
    "which outputs something like,"
   ]
  },
  {
   "cell_type": "markdown",
   "id": "bb1f5395-d190-4eac-9c43-198a65ce4ce9",
   "metadata": {},
   "source": [
    "```\n",
    "Currently running servers:\n",
    "http://icepack:9038/?token=xxxx :: /home/ian/docker"
   ]
  },
  {
   "cell_type": "markdown",
   "id": "fea98f0a-a6c9-46b8-bb78-11ebf1a351a9",
   "metadata": {},
   "source": [
    "Unfortunately this lists the hostname (icepack in this case). This can be fixed with the command:"
   ]
  },
  {
   "cell_type": "markdown",
   "id": "2353a5d7-8290-492a-b23a-3d41633e5a41",
   "metadata": {},
   "source": [
    "`jupyter lab list | sed s/icepack/localhost/`"
   ]
  },
  {
   "cell_type": "markdown",
   "id": "ce626c7c-e9d0-4949-b1fc-4d0bda57466d",
   "metadata": {},
   "source": [
    "Its easy just to add an alias to your login to shorten this."
   ]
  },
  {
   "cell_type": "markdown",
   "id": "c407fed1-7c44-4b41-8cfb-c03a6f16cbe7",
   "metadata": {},
   "source": [
    "`alias jlist 'jupyter lab list | sed s/icepack/localhost/'`"
   ]
  },
  {
   "cell_type": "code",
   "execution_count": null,
   "id": "91a13038-bb19-42ae-b256-08f619269b14",
   "metadata": {},
   "outputs": [],
   "source": []
  }
 ],
 "metadata": {
  "kernelspec": {
   "display_name": "firedrakeDocker",
   "language": "python",
   "name": "firedrakedocker"
  },
  "language_info": {
   "codemirror_mode": {
    "name": "ipython",
    "version": 3
   },
   "file_extension": ".py",
   "mimetype": "text/x-python",
   "name": "python",
   "nbconvert_exporter": "python",
   "pygments_lexer": "ipython3",
   "version": "3.12.3"
  }
 },
 "nbformat": 4,
 "nbformat_minor": 5
}
